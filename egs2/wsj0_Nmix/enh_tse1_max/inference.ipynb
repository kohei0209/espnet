{
 "cells": [
  {
   "cell_type": "code",
   "execution_count": 90,
   "metadata": {},
   "outputs": [
    {
     "name": "stderr",
     "output_type": "stream",
     "text": [
      "WARNING:root:Eps is deprecated in si_snr loss, set clamp_db instead.\n"
     ]
    },
    {
     "name": "stdout",
     "output_type": "stream",
     "text": [
      "Task is enh\n",
      "Number of speakers 5\n"
     ]
    }
   ],
   "source": [
    "from pathlib import Path\n",
    "from espnet2.bin.enh_variable_number_speakers_inference import SeparateSpeech\n",
    "\n",
    "epoch_number = 174\n",
    "model_dir = Path(\"./exp/enh_enh_dptnet_eda4thlayer_2-5mix_1bce_raw\")\n",
    "innference_module = SeparateSpeech(model_dir/\"config.yaml\", model_dir/f\"{epoch_number}epoch.pth\")\n"
   ]
  },
  {
   "cell_type": "code",
   "execution_count": 91,
   "metadata": {},
   "outputs": [],
   "source": [
    "from espnet2.fileio.read_text import read_2columns_text\n",
    "data_path = Path(\"./dump/raw/tt_min_8k\")\n",
    "mix_scp = read_2columns_text(data_path/\"wav.scp\")\n",
    "ref_scps = []\n",
    "for i in range(1,6,1):\n",
    "    ref_scps.append(read_2columns_text(data_path/f\"spk{i}.scp\"))"
   ]
  },
  {
   "cell_type": "code",
   "execution_count": 92,
   "metadata": {},
   "outputs": [
    {
     "name": "stdout",
     "output_type": "stream",
     "text": [
      "2 3\n",
      "3 23\n",
      "4 94\n",
      "5 211\n"
     ]
    }
   ],
   "source": [
    "est_num_spk = model_dir / f\"enhanced_tt_min_8k_{epoch_number}epoch\" / \"enh\" / \"without_true_numspk\" / \"scoring\" / \"Est_num_spk\"\n",
    "est_num_spk = read_2columns_text(est_num_spk)\n",
    "mis_estimation = {2: [], 3: [], 4: [], 5: []}\n",
    "for id, nspk in est_num_spk.items():\n",
    "    if id[0] != nspk:\n",
    "        mis_estimation[int(id[0])].append((nspk, id))\n",
    "for nspk in mis_estimation:\n",
    "    print(nspk, len(mis_estimation[nspk]))"
   ]
  },
  {
   "cell_type": "code",
   "execution_count": 99,
   "metadata": {},
   "outputs": [
    {
     "name": "stdout",
     "output_type": "stream",
     "text": [
      "Original estimated number is : 2\n",
      "\n",
      "Seed: 0, Estimated number is: 2\n",
      "tensor([19.7506, 10.1679]) tensor([0, 1])\n",
      "Seed: 1, Estimated number is: 2\n",
      "tensor([19.7506, 10.1679]) tensor([0, 1])\n",
      "Seed: 2, Estimated number is: 2\n",
      "tensor([19.7506, 10.1679]) tensor([0, 1])\n",
      "Seed: 3, Estimated number is: 2\n",
      "tensor([19.7506, 10.1679]) tensor([0, 1])\n",
      "Seed: 4, Estimated number is: 2\n",
      "tensor([19.7506, 10.1679]) tensor([0, 1])\n",
      "Seed: 5, Estimated number is: 2\n",
      "tensor([19.7507, 10.1679]) tensor([0, 1])\n",
      "Seed: 6, Estimated number is: 2\n",
      "tensor([19.7507, 10.1679]) tensor([0, 1])\n",
      "Seed: 7, Estimated number is: 2\n",
      "tensor([19.7507, 10.1679]) tensor([0, 1])\n",
      "Seed: 8, Estimated number is: 2\n",
      "tensor([19.7507, 10.1679]) tensor([0, 1])\n",
      "Seed: 9, Estimated number is: 2\n",
      "tensor([19.7506, 10.1679]) tensor([0, 1])\n"
     ]
    }
   ],
   "source": [
    "from espnet2.torch_utils.set_all_random_seed import set_all_random_seed\n",
    "import fast_bss_eval\n",
    "import soundfile as sf\n",
    "import torch\n",
    "\n",
    "# [4][1] [4][3] is a good example\n",
    "org_est_nspk, example_id = mis_estimation[4][15]\n",
    "mix = torch.from_numpy(sf.read(mix_scp[example_id], dtype=\"float32\")[0])\n",
    "ref = []\n",
    "for i in range(5):\n",
    "    if ref_scps[i][example_id] != \"dummy\":\n",
    "        ref.append(torch.from_numpy(sf.read(ref_scps[i][example_id], dtype=\"float32\")[0]))\n",
    "ref = torch.stack(ref, dim=0)\n",
    "\n",
    "print(f\"Original estimated number is : {org_est_nspk}\\n\")\n",
    "for seed in range(10):\n",
    "    set_all_random_seed(seed)\n",
    "    est = innference_module(mix[None])\n",
    "    est = torch.cat(est, dim=0)\n",
    "    print(f\"Seed: {seed}, Estimated number is: {est.shape[0]}\")\n",
    "    sisdr, perm = fast_bss_eval.si_sdr(ref, est, return_perm=True)\n",
    "    print(sisdr, perm)"
   ]
  },
  {
   "cell_type": "code",
   "execution_count": null,
   "metadata": {},
   "outputs": [],
   "source": []
  }
 ],
 "metadata": {
  "kernelspec": {
   "display_name": "espnet_use",
   "language": "python",
   "name": "python3"
  },
  "language_info": {
   "codemirror_mode": {
    "name": "ipython",
    "version": 3
   },
   "file_extension": ".py",
   "mimetype": "text/x-python",
   "name": "python",
   "nbconvert_exporter": "python",
   "pygments_lexer": "ipython3",
   "version": "3.10.8"
  },
  "orig_nbformat": 4
 },
 "nbformat": 4,
 "nbformat_minor": 2
}
